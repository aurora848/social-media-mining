{
 "cells": [
  {
   "cell_type": "code",
   "execution_count": 3,
   "metadata": {
    "collapsed": true
   },
   "outputs": [],
   "source": [
    "import pandas as pd\n",
    "import pickle as pkl\n",
    "import os"
   ]
  },
  {
   "cell_type": "markdown",
   "metadata": {},
   "source": [
    "# Lists declaring"
   ]
  },
  {
   "cell_type": "code",
   "execution_count": 1,
   "metadata": {
    "collapsed": true
   },
   "outputs": [],
   "source": [
    "Months = [\"October\", \"November\", \"December\", \"January\", \"February\", \"March\"]\n",
    "October = []\n",
    "November = []\n",
    "December = []\n",
    "January = []\n",
    "February = []\n",
    "March=[]\n",
    "AllTweets = []"
   ]
  },
  {
   "cell_type": "markdown",
   "metadata": {},
   "source": [
    "# Populate the data to months lists\n",
    "Please change the data folder path to your path in your PC"
   ]
  },
  {
   "cell_type": "code",
   "execution_count": 4,
   "metadata": {},
   "outputs": [],
   "source": [
    "#Change the path\n",
    "DataFolderPath = \"C:/Users/A/Documents/GitHub\\social-media-data-py/metoo_data/\"\n",
    "\n",
    "for month in Months:\n",
    "    #print(os.listdir(DataFolderPath + month))\n",
    "    for file in os.listdir(DataFolderPath + month):\n",
    "        if file.endswith(\".pkl\"):\n",
    "            #print(os.listdir(DataFolderPath + month))\n",
    "            if month == \"October\":\n",
    "                October.extend(pkl.load(open(DataFolderPath + month + \"/\" + file, \"rb\")))\n",
    "            elif month == \"November\":\n",
    "                November.extend(pkl.load(open(DataFolderPath + month + \"/\" + file, \"rb\")))\n",
    "            elif month == \"December\":\n",
    "                December.extend(pkl.load(open(DataFolderPath + month + \"/\" + file, \"rb\")))\n",
    "            elif month == \"January\":\n",
    "                January.extend(pkl.load(open(DataFolderPath + month + \"/\" + file, \"rb\")))\n",
    "            elif month == \"February\":\n",
    "                February.extend(pkl.load(open(DataFolderPath + month + \"/\" + file, \"rb\"))) \n",
    "            elif month == \"March\":\n",
    "                March.extend(pkl.load(open(DataFolderPath + month + \"/\" + file, \"rb\")))                 \n",
    "                "
   ]
  },
  {
   "cell_type": "markdown",
   "metadata": {},
   "source": [
    "# Populate the whole data to AllTweets list"
   ]
  },
  {
   "cell_type": "code",
   "execution_count": 5,
   "metadata": {
    "collapsed": true
   },
   "outputs": [],
   "source": [
    "for month in Months:\n",
    "    for file in os.listdir(DataFolderPath + month):\n",
    "        if file.endswith(\".pkl\"):\n",
    "            AllTweets.extend(pkl.load(open(DataFolderPath + month + \"/\" + file, \"rb\")))"
   ]
  },
  {
   "cell_type": "markdown",
   "metadata": {},
   "source": [
    "And now we have all our data populated in the lists"
   ]
  },
  {
   "cell_type": "code",
   "execution_count": 6,
   "metadata": {},
   "outputs": [
    {
     "name": "stdout",
     "output_type": "stream",
     "text": [
      "October Total: 490444\n",
      "November Total: 241275\n",
      "December Total: 347442\n",
      "January Total: 437326\n",
      "February Total: 294038\n",
      "March Total: 74990\n",
      "AllTweets Total: 1885515\n"
     ]
    }
   ],
   "source": [
    "print(\"October Total: \" + str(len(October)))\n",
    "print(\"November Total: \" + str(len(November)))\n",
    "print(\"December Total: \" + str(len(December)))\n",
    "print(\"January Total: \" + str(len(January)))\n",
    "print(\"February Total: \" + str(len(February)))\n",
    "print(\"March Total: \" + str(len(March)))\n",
    "print(\"AllTweets Total: \" + str(len(AllTweets)))"
   ]
  },
  {
   "cell_type": "markdown",
   "metadata": {},
   "source": [
    "# Cleaning reply usernames"
   ]
  },
  {
   "cell_type": "markdown",
   "metadata": {},
   "source": [
    "1-Cleaning October usernames"
   ]
  },
  {
   "cell_type": "code",
   "execution_count": 7,
   "metadata": {},
   "outputs": [
    {
     "name": "stdout",
     "output_type": "stream",
     "text": [
      "Total Fixed: 47774\n",
      "Total No Fix Needed: 442670\n",
      "Total Sum: 490444\n"
     ]
    }
   ],
   "source": [
    "fixCounter = 0\n",
    "nofixCounter = 0\n",
    "for i in range(len(October)):\n",
    "        if \" \" not in October[i][\"username\"]:\n",
    "            nofixCounter +=1\n",
    "        if \" \" in October[i][\"username\"]:\n",
    "            firstspace = October[i][\"username\"].find(' ')\n",
    "            October[i][\"username\"] = October[i][\"username\"][:firstspace]\n",
    "            fixCounter += 1\n",
    "print(\"Total Fixed: \" + str(fixCounter))\n",
    "print(\"Total No Fix Needed: \" + str(nofixCounter))\n",
    "print(\"Total Sum: \" + str(fixCounter + nofixCounter))"
   ]
  },
  {
   "cell_type": "markdown",
   "metadata": {},
   "source": [
    "2-Cleaning November usernames"
   ]
  },
  {
   "cell_type": "code",
   "execution_count": 8,
   "metadata": {},
   "outputs": [
    {
     "name": "stdout",
     "output_type": "stream",
     "text": [
      "Total Fixed: 86117\n",
      "Total No Fix Needed: 155158\n",
      "Total Sum: 241275\n"
     ]
    }
   ],
   "source": [
    "fixCounter = 0\n",
    "nofixCounter = 0\n",
    "for i in range(len(November)):\n",
    "        if \" \" not in November[i][\"username\"]:\n",
    "            nofixCounter +=1\n",
    "        if \" \" in November[i][\"username\"]:\n",
    "            firstspace = November[i][\"username\"].find(' ')\n",
    "            November[i][\"username\"] = November[i][\"username\"][:firstspace]\n",
    "            fixCounter += 1\n",
    "print(\"Total Fixed: \" + str(fixCounter))\n",
    "print(\"Total No Fix Needed: \" + str(nofixCounter))\n",
    "print(\"Total Sum: \" + str(fixCounter + nofixCounter))"
   ]
  },
  {
   "cell_type": "markdown",
   "metadata": {},
   "source": [
    "3-Cleaning December usernames"
   ]
  },
  {
   "cell_type": "code",
   "execution_count": 9,
   "metadata": {},
   "outputs": [
    {
     "name": "stdout",
     "output_type": "stream",
     "text": [
      "Total Fixed: 124698\n",
      "Total No Fix Needed: 222744\n",
      "Total Sum: 347442\n"
     ]
    }
   ],
   "source": [
    "fixCounter = 0\n",
    "nofixCounter = 0\n",
    "for i in range(len(December)):\n",
    "        if \" \" not in December[i][\"username\"]:\n",
    "            nofixCounter +=1\n",
    "        if \" \" in December[i][\"username\"]:\n",
    "            firstspace = December[i][\"username\"].find(' ')\n",
    "            December[i][\"username\"] = December[i][\"username\"][:firstspace]\n",
    "            fixCounter += 1\n",
    "print(\"Total Fixed: \" + str(fixCounter))\n",
    "print(\"Total No Fix Needed: \" + str(nofixCounter))\n",
    "print(\"Total Sum: \" + str(fixCounter + nofixCounter))"
   ]
  },
  {
   "cell_type": "markdown",
   "metadata": {},
   "source": [
    "4-Cleaning January usernames"
   ]
  },
  {
   "cell_type": "code",
   "execution_count": 10,
   "metadata": {},
   "outputs": [
    {
     "name": "stdout",
     "output_type": "stream",
     "text": [
      "Total Fixed: 0\n",
      "Total No Fix Needed: 437326\n",
      "Total Sum: 437326\n"
     ]
    }
   ],
   "source": [
    "fixCounter = 0\n",
    "nofixCounter = 0\n",
    "for i in range(len(January)):\n",
    "        if \" \" not in January[i][\"username\"]:\n",
    "            nofixCounter +=1\n",
    "        if \" \" in January[i][\"username\"]:\n",
    "            firstspace = January[i][\"username\"].find(' ')\n",
    "            January[i][\"username\"] = January[i][\"username\"][:firstspace]\n",
    "            fixCounter += 1\n",
    "print(\"Total Fixed: \" + str(fixCounter))\n",
    "print(\"Total No Fix Needed: \" + str(nofixCounter))\n",
    "print(\"Total Sum: \" + str(fixCounter + nofixCounter))"
   ]
  },
  {
   "cell_type": "markdown",
   "metadata": {},
   "source": [
    "5-Cleaning February usernames"
   ]
  },
  {
   "cell_type": "code",
   "execution_count": 11,
   "metadata": {},
   "outputs": [
    {
     "name": "stdout",
     "output_type": "stream",
     "text": [
      "Total Fixed: 93787\n",
      "Total No Fix Needed: 200251\n",
      "Total Sum: 294038\n"
     ]
    }
   ],
   "source": [
    "fixCounter = 0\n",
    "nofixCounter = 0\n",
    "for i in range(len(February)):\n",
    "        if \" \" not in February[i][\"username\"]:\n",
    "            nofixCounter +=1\n",
    "        if \" \" in February[i][\"username\"]:\n",
    "            firstspace = February[i][\"username\"].find(' ')\n",
    "            February[i][\"username\"] = February[i][\"username\"][:firstspace]\n",
    "            fixCounter += 1\n",
    "print(\"Total Fixed: \" + str(fixCounter))\n",
    "print(\"Total No Fix Needed: \" + str(nofixCounter))\n",
    "print(\"Total Sum: \" + str(fixCounter + nofixCounter))"
   ]
  },
  {
   "cell_type": "markdown",
   "metadata": {},
   "source": [
    "6-Cleaning March usernames"
   ]
  },
  {
   "cell_type": "code",
   "execution_count": 12,
   "metadata": {},
   "outputs": [
    {
     "name": "stdout",
     "output_type": "stream",
     "text": [
      "Total Fixed: 21889\n",
      "Total No Fix Needed: 53101\n",
      "Total Sum: 74990\n"
     ]
    }
   ],
   "source": [
    "fixCounter = 0\n",
    "nofixCounter = 0\n",
    "for i in range(len(March)):\n",
    "        if \" \" not in March[i][\"username\"]:\n",
    "            nofixCounter +=1\n",
    "        if \" \" in March[i][\"username\"]:\n",
    "            firstspace = March[i][\"username\"].find(' ')\n",
    "            March[i][\"username\"] = March[i][\"username\"][:firstspace]\n",
    "            fixCounter += 1\n",
    "print(\"Total Fixed: \" + str(fixCounter))\n",
    "print(\"Total No Fix Needed: \" + str(nofixCounter))\n",
    "print(\"Total Sum: \" + str(fixCounter + nofixCounter))"
   ]
  },
  {
   "cell_type": "markdown",
   "metadata": {},
   "source": [
    "5-Cleaning AllTweets usernames"
   ]
  },
  {
   "cell_type": "code",
   "execution_count": 13,
   "metadata": {},
   "outputs": [
    {
     "name": "stdout",
     "output_type": "stream",
     "text": [
      "Total Fixed: 374265\n",
      "Total No Fix Needed: 1511250\n",
      "Total Sum: 1885515\n"
     ]
    }
   ],
   "source": [
    "fixCounter = 0\n",
    "nofixCounter = 0\n",
    "for i in range(len(AllTweets)):\n",
    "        if \" \" not in AllTweets[i][\"username\"]:\n",
    "            nofixCounter +=1\n",
    "        if \" \" in AllTweets[i][\"username\"]:\n",
    "            firstspace = AllTweets[i][\"username\"].find(' ')\n",
    "            AllTweets[i][\"username\"] = AllTweets[i][\"username\"][:firstspace]\n",
    "            fixCounter += 1\n",
    "print(\"Total Fixed: \" + str(fixCounter))\n",
    "print(\"Total No Fix Needed: \" + str(nofixCounter))\n",
    "print(\"Total Sum: \" + str(fixCounter + nofixCounter))"
   ]
  },
  {
   "cell_type": "markdown",
   "metadata": {},
   "source": [
    "# Create DataFrame using Panadas for AllTweets"
   ]
  },
  {
   "cell_type": "code",
   "execution_count": 14,
   "metadata": {
    "collapsed": true
   },
   "outputs": [],
   "source": [
    "df = pd.DataFrame.from_dict(AllTweets)"
   ]
  },
  {
   "cell_type": "markdown",
   "metadata": {},
   "source": [
    " "
   ]
  },
  {
   "cell_type": "markdown",
   "metadata": {},
   "source": [
    "List top 10 tweeted users"
   ]
  },
  {
   "cell_type": "code",
   "execution_count": 15,
   "metadata": {
    "scrolled": true
   },
   "outputs": [
    {
     "data": {
      "text/plain": [
       "username\n",
       "                  679775\n",
       "YouAreOnRadar       3285\n",
       "hotdog4191          2250\n",
       "RaulOrozco          1961\n",
       "dubie1151           1884\n",
       "DulleyTopBooks      1261\n",
       "pdxdcook             860\n",
       "evry2min             839\n",
       "PjjPjoje             833\n",
       "DrLindaShelton       832\n",
       "SOAR12steps          816\n",
       "dtype: int64"
      ]
     },
     "execution_count": 15,
     "metadata": {},
     "output_type": "execute_result"
    }
   ],
   "source": [
    "df.groupby(\"username\").size().sort_values(ascending=False)[:11]"
   ]
  },
  {
   "cell_type": "markdown",
   "metadata": {},
   "source": [
    " "
   ]
  },
  {
   "cell_type": "markdown",
   "metadata": {},
   "source": [
    "List top 10 favroited tweets"
   ]
  },
  {
   "cell_type": "code",
   "execution_count": 16,
   "metadata": {
    "scrolled": true
   },
   "outputs": [
    {
     "data": {
      "text/html": [
       "<div>\n",
       "<style>\n",
       "    .dataframe thead tr:only-child th {\n",
       "        text-align: right;\n",
       "    }\n",
       "\n",
       "    .dataframe thead th {\n",
       "        text-align: left;\n",
       "    }\n",
       "\n",
       "    .dataframe tbody tr th {\n",
       "        vertical-align: top;\n",
       "    }\n",
       "</style>\n",
       "<table border=\"1\" class=\"dataframe\">\n",
       "  <thead>\n",
       "    <tr style=\"text-align: right;\">\n",
       "      <th></th>\n",
       "      <th>date</th>\n",
       "      <th>favorites</th>\n",
       "      <th>geo</th>\n",
       "      <th>hashtags</th>\n",
       "      <th>mentions</th>\n",
       "      <th>permalink</th>\n",
       "      <th>retweets</th>\n",
       "      <th>term</th>\n",
       "      <th>text</th>\n",
       "      <th>tweet_id</th>\n",
       "      <th>username</th>\n",
       "    </tr>\n",
       "  </thead>\n",
       "  <tbody>\n",
       "    <tr>\n",
       "      <th>143943</th>\n",
       "      <td>2017-10-16 08:25:23</td>\n",
       "      <td>155142</td>\n",
       "      <td></td>\n",
       "      <td>#</td>\n",
       "      <td></td>\n",
       "      <td>https://twitter.com/apbenven/status/9199020891...</td>\n",
       "      <td>55915</td>\n",
       "      <td>#metoo</td>\n",
       "      <td>Reminder that if a woman didn't post # MeToo, ...</td>\n",
       "      <td>919902089110872064</td>\n",
       "      <td>apbenven</td>\n",
       "    </tr>\n",
       "    <tr>\n",
       "      <th>1269701</th>\n",
       "      <td>2018-01-15 16:22:20</td>\n",
       "      <td>107408</td>\n",
       "      <td></td>\n",
       "      <td>#</td>\n",
       "      <td></td>\n",
       "      <td>https://twitter.com/Simone_Biles/status/953014...</td>\n",
       "      <td>23338</td>\n",
       "      <td>#metoo</td>\n",
       "      <td>Feelings... # MeToo pic.twitter.com/ICiu0FCa0n</td>\n",
       "      <td>953014513837715457</td>\n",
       "      <td></td>\n",
       "    </tr>\n",
       "    <tr>\n",
       "      <th>290430</th>\n",
       "      <td>2017-10-18 03:14:06</td>\n",
       "      <td>96095</td>\n",
       "      <td></td>\n",
       "      <td>#</td>\n",
       "      <td></td>\n",
       "      <td>https://twitter.com/McKaylaMaroney/status/9205...</td>\n",
       "      <td>30769</td>\n",
       "      <td>#metoo</td>\n",
       "      <td># MeToo pic.twitter.com/lYXaDTuOsS</td>\n",
       "      <td>920548528870400001</td>\n",
       "      <td></td>\n",
       "    </tr>\n",
       "    <tr>\n",
       "      <th>4122</th>\n",
       "      <td>2017-10-15 19:24:37</td>\n",
       "      <td>90292</td>\n",
       "      <td></td>\n",
       "      <td>#</td>\n",
       "      <td></td>\n",
       "      <td>https://twitter.com/womensmarch/status/9197056...</td>\n",
       "      <td>32200</td>\n",
       "      <td>#metoo</td>\n",
       "      <td>To all the women sharing stories of sexual ass...</td>\n",
       "      <td>919705604075216896</td>\n",
       "      <td>womensmarch</td>\n",
       "    </tr>\n",
       "    <tr>\n",
       "      <th>723723</th>\n",
       "      <td>2017-11-30 13:11:43</td>\n",
       "      <td>70422</td>\n",
       "      <td></td>\n",
       "      <td>#</td>\n",
       "      <td></td>\n",
       "      <td>https://twitter.com/BetteMidler/status/9362967...</td>\n",
       "      <td>23393</td>\n",
       "      <td>#metoo</td>\n",
       "      <td>Tomorrow is my birthday. I feel like this vide...</td>\n",
       "      <td>936296701962305537</td>\n",
       "      <td>BetteMidler</td>\n",
       "    </tr>\n",
       "    <tr>\n",
       "      <th>222053</th>\n",
       "      <td>2017-10-15 22:32:09</td>\n",
       "      <td>65829</td>\n",
       "      <td></td>\n",
       "      <td>#</td>\n",
       "      <td></td>\n",
       "      <td>https://twitter.com/Pappiness/status/919752795...</td>\n",
       "      <td>21429</td>\n",
       "      <td>#metoo</td>\n",
       "      <td>Men, Don't say you have a mother, a sister, a ...</td>\n",
       "      <td>919752795280027648</td>\n",
       "      <td>Pappiness</td>\n",
       "    </tr>\n",
       "    <tr>\n",
       "      <th>306780</th>\n",
       "      <td>2017-10-17 20:57:48</td>\n",
       "      <td>52985</td>\n",
       "      <td></td>\n",
       "      <td>#</td>\n",
       "      <td></td>\n",
       "      <td>https://twitter.com/MarleeMatlin/status/920453...</td>\n",
       "      <td>13646</td>\n",
       "      <td>#metoo</td>\n",
       "      <td># MeToo. I was 14, he was 36. I may be Deaf, b...</td>\n",
       "      <td>920453826364235776</td>\n",
       "      <td></td>\n",
       "    </tr>\n",
       "    <tr>\n",
       "      <th>270487</th>\n",
       "      <td>2017-10-18 11:19:46</td>\n",
       "      <td>51400</td>\n",
       "      <td></td>\n",
       "      <td>#</td>\n",
       "      <td></td>\n",
       "      <td>https://twitter.com/itsgabrielleu/status/92067...</td>\n",
       "      <td>16337</td>\n",
       "      <td>#metoo</td>\n",
       "      <td>You know us. We are your family members. Your ...</td>\n",
       "      <td>920670749525934081</td>\n",
       "      <td></td>\n",
       "    </tr>\n",
       "    <tr>\n",
       "      <th>1019059</th>\n",
       "      <td>2017-12-22 10:00:00</td>\n",
       "      <td>45099</td>\n",
       "      <td></td>\n",
       "      <td>#</td>\n",
       "      <td>@</td>\n",
       "      <td>https://twitter.com/benshapiro/status/94422098...</td>\n",
       "      <td>13216</td>\n",
       "      <td>#metoo</td>\n",
       "      <td>Just reported @ Rosie for targeted harassment,...</td>\n",
       "      <td>944220986525618176</td>\n",
       "      <td>benshapiro</td>\n",
       "    </tr>\n",
       "    <tr>\n",
       "      <th>1154960</th>\n",
       "      <td>2018-01-07 22:27:30</td>\n",
       "      <td>45050</td>\n",
       "      <td></td>\n",
       "      <td># # # # #</td>\n",
       "      <td></td>\n",
       "      <td>https://twitter.com/ava/status/950207306112708609</td>\n",
       "      <td>6774</td>\n",
       "      <td>#metoo</td>\n",
       "      <td>Let me tell you this room is still vibrating l...</td>\n",
       "      <td>950207306112708609</td>\n",
       "      <td></td>\n",
       "    </tr>\n",
       "  </tbody>\n",
       "</table>\n",
       "</div>"
      ],
      "text/plain": [
       "                       date  favorites geo   hashtags mentions  \\\n",
       "143943  2017-10-16 08:25:23     155142              #            \n",
       "1269701 2018-01-15 16:22:20     107408              #            \n",
       "290430  2017-10-18 03:14:06      96095              #            \n",
       "4122    2017-10-15 19:24:37      90292              #            \n",
       "723723  2017-11-30 13:11:43      70422              #            \n",
       "222053  2017-10-15 22:32:09      65829              #            \n",
       "306780  2017-10-17 20:57:48      52985              #            \n",
       "270487  2017-10-18 11:19:46      51400              #            \n",
       "1019059 2017-12-22 10:00:00      45099              #        @   \n",
       "1154960 2018-01-07 22:27:30      45050      # # # # #            \n",
       "\n",
       "                                                 permalink  retweets    term  \\\n",
       "143943   https://twitter.com/apbenven/status/9199020891...     55915  #metoo   \n",
       "1269701  https://twitter.com/Simone_Biles/status/953014...     23338  #metoo   \n",
       "290430   https://twitter.com/McKaylaMaroney/status/9205...     30769  #metoo   \n",
       "4122     https://twitter.com/womensmarch/status/9197056...     32200  #metoo   \n",
       "723723   https://twitter.com/BetteMidler/status/9362967...     23393  #metoo   \n",
       "222053   https://twitter.com/Pappiness/status/919752795...     21429  #metoo   \n",
       "306780   https://twitter.com/MarleeMatlin/status/920453...     13646  #metoo   \n",
       "270487   https://twitter.com/itsgabrielleu/status/92067...     16337  #metoo   \n",
       "1019059  https://twitter.com/benshapiro/status/94422098...     13216  #metoo   \n",
       "1154960  https://twitter.com/ava/status/950207306112708609      6774  #metoo   \n",
       "\n",
       "                                                      text  \\\n",
       "143943   Reminder that if a woman didn't post # MeToo, ...   \n",
       "1269701     Feelings... # MeToo pic.twitter.com/ICiu0FCa0n   \n",
       "290430                  # MeToo pic.twitter.com/lYXaDTuOsS   \n",
       "4122     To all the women sharing stories of sexual ass...   \n",
       "723723   Tomorrow is my birthday. I feel like this vide...   \n",
       "222053   Men, Don't say you have a mother, a sister, a ...   \n",
       "306780   # MeToo. I was 14, he was 36. I may be Deaf, b...   \n",
       "270487   You know us. We are your family members. Your ...   \n",
       "1019059  Just reported @ Rosie for targeted harassment,...   \n",
       "1154960  Let me tell you this room is still vibrating l...   \n",
       "\n",
       "                   tweet_id     username  \n",
       "143943   919902089110872064     apbenven  \n",
       "1269701  953014513837715457               \n",
       "290430   920548528870400001               \n",
       "4122     919705604075216896  womensmarch  \n",
       "723723   936296701962305537  BetteMidler  \n",
       "222053   919752795280027648    Pappiness  \n",
       "306780   920453826364235776               \n",
       "270487   920670749525934081               \n",
       "1019059  944220986525618176   benshapiro  \n",
       "1154960  950207306112708609               "
      ]
     },
     "execution_count": 16,
     "metadata": {},
     "output_type": "execute_result"
    }
   ],
   "source": [
    "df.sort_values(by='favorites', ascending=False)[:10]"
   ]
  },
  {
   "cell_type": "markdown",
   "metadata": {},
   "source": [
    " "
   ]
  },
  {
   "cell_type": "markdown",
   "metadata": {},
   "source": [
    "List top 10 retweeted tweets"
   ]
  },
  {
   "cell_type": "code",
   "execution_count": 17,
   "metadata": {
    "scrolled": true
   },
   "outputs": [
    {
     "data": {
      "text/html": [
       "<div>\n",
       "<style>\n",
       "    .dataframe thead tr:only-child th {\n",
       "        text-align: right;\n",
       "    }\n",
       "\n",
       "    .dataframe thead th {\n",
       "        text-align: left;\n",
       "    }\n",
       "\n",
       "    .dataframe tbody tr th {\n",
       "        vertical-align: top;\n",
       "    }\n",
       "</style>\n",
       "<table border=\"1\" class=\"dataframe\">\n",
       "  <thead>\n",
       "    <tr style=\"text-align: right;\">\n",
       "      <th></th>\n",
       "      <th>date</th>\n",
       "      <th>favorites</th>\n",
       "      <th>geo</th>\n",
       "      <th>hashtags</th>\n",
       "      <th>mentions</th>\n",
       "      <th>permalink</th>\n",
       "      <th>retweets</th>\n",
       "      <th>term</th>\n",
       "      <th>text</th>\n",
       "      <th>tweet_id</th>\n",
       "      <th>username</th>\n",
       "    </tr>\n",
       "  </thead>\n",
       "  <tbody>\n",
       "    <tr>\n",
       "      <th>143943</th>\n",
       "      <td>2017-10-16 08:25:23</td>\n",
       "      <td>155142</td>\n",
       "      <td></td>\n",
       "      <td>#</td>\n",
       "      <td></td>\n",
       "      <td>https://twitter.com/apbenven/status/9199020891...</td>\n",
       "      <td>55915</td>\n",
       "      <td>#metoo</td>\n",
       "      <td>Reminder that if a woman didn't post # MeToo, ...</td>\n",
       "      <td>919902089110872064</td>\n",
       "      <td>apbenven</td>\n",
       "    </tr>\n",
       "    <tr>\n",
       "      <th>790724</th>\n",
       "      <td>2017-12-06 10:42:31</td>\n",
       "      <td>36357</td>\n",
       "      <td></td>\n",
       "      <td># # #</td>\n",
       "      <td></td>\n",
       "      <td>https://twitter.com/funder/status/938433479192...</td>\n",
       "      <td>46535</td>\n",
       "      <td>#metoo</td>\n",
       "      <td>The 16 women who accused Trump of sexual assau...</td>\n",
       "      <td>938433479192338432</td>\n",
       "      <td>funder</td>\n",
       "    </tr>\n",
       "    <tr>\n",
       "      <th>1082107</th>\n",
       "      <td>2018-01-01 07:13:48</td>\n",
       "      <td>26785</td>\n",
       "      <td></td>\n",
       "      <td># #</td>\n",
       "      <td>@</td>\n",
       "      <td>https://twitter.com/funder/status/947803040073...</td>\n",
       "      <td>39481</td>\n",
       "      <td>#metoo</td>\n",
       "      <td>. @ SpeakerRyan-Everyone who retweets this wan...</td>\n",
       "      <td>947803040073035776</td>\n",
       "      <td></td>\n",
       "    </tr>\n",
       "    <tr>\n",
       "      <th>965144</th>\n",
       "      <td>2017-12-16 22:56:14</td>\n",
       "      <td>33090</td>\n",
       "      <td></td>\n",
       "      <td>#</td>\n",
       "      <td></td>\n",
       "      <td>https://twitter.com/Ayaka_m_y/status/942242005...</td>\n",
       "      <td>34108</td>\n",
       "      <td>#metoo</td>\n",
       "      <td>「高橋まつりさんが亡くなったことどう思う？」「君みたいな容姿が綺麗な人がハキハキ意見を言うの...</td>\n",
       "      <td>942242005752483840</td>\n",
       "      <td>Ayaka_m_y</td>\n",
       "    </tr>\n",
       "    <tr>\n",
       "      <th>4122</th>\n",
       "      <td>2017-10-15 19:24:37</td>\n",
       "      <td>90292</td>\n",
       "      <td></td>\n",
       "      <td>#</td>\n",
       "      <td></td>\n",
       "      <td>https://twitter.com/womensmarch/status/9197056...</td>\n",
       "      <td>32200</td>\n",
       "      <td>#metoo</td>\n",
       "      <td>To all the women sharing stories of sexual ass...</td>\n",
       "      <td>919705604075216896</td>\n",
       "      <td>womensmarch</td>\n",
       "    </tr>\n",
       "    <tr>\n",
       "      <th>290430</th>\n",
       "      <td>2017-10-18 03:14:06</td>\n",
       "      <td>96095</td>\n",
       "      <td></td>\n",
       "      <td>#</td>\n",
       "      <td></td>\n",
       "      <td>https://twitter.com/McKaylaMaroney/status/9205...</td>\n",
       "      <td>30769</td>\n",
       "      <td>#metoo</td>\n",
       "      <td># MeToo pic.twitter.com/lYXaDTuOsS</td>\n",
       "      <td>920548528870400001</td>\n",
       "      <td></td>\n",
       "    </tr>\n",
       "    <tr>\n",
       "      <th>612710</th>\n",
       "      <td>2017-11-16 10:06:49</td>\n",
       "      <td>45009</td>\n",
       "      <td></td>\n",
       "      <td>#</td>\n",
       "      <td></td>\n",
       "      <td>https://twitter.com/LeeannTweeden/status/93117...</td>\n",
       "      <td>25964</td>\n",
       "      <td>#metoo</td>\n",
       "      <td>I’ve decided it’s time to tell my story. # MeT...</td>\n",
       "      <td>931176738586890241</td>\n",
       "      <td>LeeannTweeden</td>\n",
       "    </tr>\n",
       "    <tr>\n",
       "      <th>723723</th>\n",
       "      <td>2017-11-30 13:11:43</td>\n",
       "      <td>70422</td>\n",
       "      <td></td>\n",
       "      <td>#</td>\n",
       "      <td></td>\n",
       "      <td>https://twitter.com/BetteMidler/status/9362967...</td>\n",
       "      <td>23393</td>\n",
       "      <td>#metoo</td>\n",
       "      <td>Tomorrow is my birthday. I feel like this vide...</td>\n",
       "      <td>936296701962305537</td>\n",
       "      <td>BetteMidler</td>\n",
       "    </tr>\n",
       "    <tr>\n",
       "      <th>1269701</th>\n",
       "      <td>2018-01-15 16:22:20</td>\n",
       "      <td>107408</td>\n",
       "      <td></td>\n",
       "      <td>#</td>\n",
       "      <td></td>\n",
       "      <td>https://twitter.com/Simone_Biles/status/953014...</td>\n",
       "      <td>23338</td>\n",
       "      <td>#metoo</td>\n",
       "      <td>Feelings... # MeToo pic.twitter.com/ICiu0FCa0n</td>\n",
       "      <td>953014513837715457</td>\n",
       "      <td></td>\n",
       "    </tr>\n",
       "    <tr>\n",
       "      <th>222053</th>\n",
       "      <td>2017-10-15 22:32:09</td>\n",
       "      <td>65829</td>\n",
       "      <td></td>\n",
       "      <td>#</td>\n",
       "      <td></td>\n",
       "      <td>https://twitter.com/Pappiness/status/919752795...</td>\n",
       "      <td>21429</td>\n",
       "      <td>#metoo</td>\n",
       "      <td>Men, Don't say you have a mother, a sister, a ...</td>\n",
       "      <td>919752795280027648</td>\n",
       "      <td>Pappiness</td>\n",
       "    </tr>\n",
       "  </tbody>\n",
       "</table>\n",
       "</div>"
      ],
      "text/plain": [
       "                       date  favorites geo hashtags mentions  \\\n",
       "143943  2017-10-16 08:25:23     155142            #            \n",
       "790724  2017-12-06 10:42:31      36357        # # #            \n",
       "1082107 2018-01-01 07:13:48      26785          # #        @   \n",
       "965144  2017-12-16 22:56:14      33090            #            \n",
       "4122    2017-10-15 19:24:37      90292            #            \n",
       "290430  2017-10-18 03:14:06      96095            #            \n",
       "612710  2017-11-16 10:06:49      45009            #            \n",
       "723723  2017-11-30 13:11:43      70422            #            \n",
       "1269701 2018-01-15 16:22:20     107408            #            \n",
       "222053  2017-10-15 22:32:09      65829            #            \n",
       "\n",
       "                                                 permalink  retweets    term  \\\n",
       "143943   https://twitter.com/apbenven/status/9199020891...     55915  #metoo   \n",
       "790724   https://twitter.com/funder/status/938433479192...     46535  #metoo   \n",
       "1082107  https://twitter.com/funder/status/947803040073...     39481  #metoo   \n",
       "965144   https://twitter.com/Ayaka_m_y/status/942242005...     34108  #metoo   \n",
       "4122     https://twitter.com/womensmarch/status/9197056...     32200  #metoo   \n",
       "290430   https://twitter.com/McKaylaMaroney/status/9205...     30769  #metoo   \n",
       "612710   https://twitter.com/LeeannTweeden/status/93117...     25964  #metoo   \n",
       "723723   https://twitter.com/BetteMidler/status/9362967...     23393  #metoo   \n",
       "1269701  https://twitter.com/Simone_Biles/status/953014...     23338  #metoo   \n",
       "222053   https://twitter.com/Pappiness/status/919752795...     21429  #metoo   \n",
       "\n",
       "                                                      text  \\\n",
       "143943   Reminder that if a woman didn't post # MeToo, ...   \n",
       "790724   The 16 women who accused Trump of sexual assau...   \n",
       "1082107  . @ SpeakerRyan-Everyone who retweets this wan...   \n",
       "965144   「高橋まつりさんが亡くなったことどう思う？」「君みたいな容姿が綺麗な人がハキハキ意見を言うの...   \n",
       "4122     To all the women sharing stories of sexual ass...   \n",
       "290430                  # MeToo pic.twitter.com/lYXaDTuOsS   \n",
       "612710   I’ve decided it’s time to tell my story. # MeT...   \n",
       "723723   Tomorrow is my birthday. I feel like this vide...   \n",
       "1269701     Feelings... # MeToo pic.twitter.com/ICiu0FCa0n   \n",
       "222053   Men, Don't say you have a mother, a sister, a ...   \n",
       "\n",
       "                   tweet_id       username  \n",
       "143943   919902089110872064       apbenven  \n",
       "790724   938433479192338432         funder  \n",
       "1082107  947803040073035776                 \n",
       "965144   942242005752483840      Ayaka_m_y  \n",
       "4122     919705604075216896    womensmarch  \n",
       "290430   920548528870400001                 \n",
       "612710   931176738586890241  LeeannTweeden  \n",
       "723723   936296701962305537    BetteMidler  \n",
       "1269701  953014513837715457                 \n",
       "222053   919752795280027648      Pappiness  "
      ]
     },
     "execution_count": 17,
     "metadata": {},
     "output_type": "execute_result"
    }
   ],
   "source": [
    "df.sort_values(by='retweets', ascending=False)[:10]"
   ]
  },
  {
   "cell_type": "markdown",
   "metadata": {},
   "source": [
    " "
   ]
  },
  {
   "cell_type": "markdown",
   "metadata": {},
   "source": [
    "Search for all tweets of specified username in the data"
   ]
  },
  {
   "cell_type": "code",
   "execution_count": 38,
   "metadata": {},
   "outputs": [],
   "source": [
    "#Change it to the desired username\n",
    "\n",
    "TweetsCount = 1\n",
    "\n",
    "for i in range(len(AllTweets)):\n",
    "        if \"funder\" in AllTweets[i][\"username\"]:\n",
    "            print(str(TweetsCount) + \".\")\n",
    "            print (\"Tweet Link: \" + AllTweets[i][\"permalink\"])\n",
    "            print (\"UserName: \" + AllTweets[i][\"username\"])\n",
    "            print (\"Text: \\n\" + AllTweets[i][\"text\"])\n",
    "            print (\"====================\\n\")\n",
    "            TweetsCount += 1"
   ]
  },
  {
   "cell_type": "code",
   "execution_count": null,
   "metadata": {
    "collapsed": true
   },
   "outputs": [],
   "source": []
  }
 ],
 "metadata": {
  "kernelspec": {
   "display_name": "Python 3",
   "language": "python",
   "name": "python3"
  },
  "language_info": {
   "codemirror_mode": {
    "name": "ipython",
    "version": 3
   },
   "file_extension": ".py",
   "mimetype": "text/x-python",
   "name": "python",
   "nbconvert_exporter": "python",
   "pygments_lexer": "ipython3",
   "version": "3.6.3"
  }
 },
 "nbformat": 4,
 "nbformat_minor": 2
}
